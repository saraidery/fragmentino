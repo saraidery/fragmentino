{
 "cells": [
  {
   "cell_type": "markdown",
   "id": "8cfdcc84-4520-4f8b-9dda-ce4d26e10e69",
   "metadata": {},
   "source": [
    "# User guide"
   ]
  },
  {
   "cell_type": "markdown",
   "id": "c5db95d6-3239-430b-9881-0d0ea3719749",
   "metadata": {},
   "source": [
    "## Installation\n",
    "\n",
    "The fragmentino package can currently only be installed from source.\n",
    "The steps are:\n",
    "```bash\n",
<<<<<<< HEAD
    "git clone https://github.com/saraidery/fragmentino\n",
    "cd fragmentino\n",
=======
    "git clone https://github.com/saraidery/fragment-molecule\n",
    "cd fragment-molecule\n",
>>>>>>> e7a4b34dcb912c020b9a4ce325f3fc44cee2a907
    "pip install --editable .\n",
    "\n",
    "```"
   ]
  },
  {
   "cell_type": "markdown",
   "id": "821ea2f1-41e0-43b6-b303-6a12304e2f7a",
   "metadata": {},
   "source": [
    "## Basic functionality\n",
    "\n",
    "The basic functionality of fragmentino is the fragmentation of a molecular system.\n",
    "This is done using the [MolecularFragmenter](reference.rst#fragmentino.MolecularFragmenter).\n",
    "\n",
    "For example, we can fragment a DNA strand (given in the file ```dna_strand.xyz```), with fragments that do not exceed 100 atoms, by the following lines:"
   ]
  },
  {
   "cell_type": "code",
   "execution_count": null,
   "id": "85d27b8b-b90f-442f-957c-f81b68b5b57e",
   "metadata": {},
   "outputs": [],
   "source": [
    "from fragmentino import MolecularFragmenter\n",
    "\n",
    "\n",
    "f = MolecularFragmenter(100, \"dna_strand.xyz\")"
   ]
  },
  {
   "cell_type": "markdown",
   "id": "cf9459cc-3e6b-49db-89f6-4047d4e51fa1",
   "metadata": {},
   "source": [
    "We can visualize the result of the fragmentation by a call to the ```plot_fragments``` method. Either using the default ([CPK](https://en.wikipedia.org/wiki/CPK_coloring)) colors"
   ]
  },
  {
   "cell_type": "code",
   "execution_count": null,
   "id": "db21246d-7d0e-4a81-b932-fd5616725d59",
   "metadata": {},
   "outputs": [],
   "source": [
<<<<<<< HEAD
    "f.plot_fragments(colors=\"CPK\", renderer=\"sphinx_gallery\")"
=======
    "f.plot_fragments(renderer=\"sphinx_gallery\")"
>>>>>>> e7a4b34dcb912c020b9a4ce325f3fc44cee2a907
   ]
  },
  {
   "cell_type": "markdown",
   "id": "4b4c28d6-cc01-4720-bbe1-23aa5f1b6857",
   "metadata": {},
   "source": [
    "or by giving each fragment a random color"
   ]
  },
  {
   "cell_type": "code",
   "execution_count": null,
   "id": "4ea2fc67-2e25-4fec-8611-c560653f245f",
   "metadata": {},
   "outputs": [],
   "source": [
<<<<<<< HEAD
    "f.plot_fragments(colors=\"random\", renderer=\"sphinx_gallery\")"
=======
    "f.plot_fragments(\"random\", renderer=\"sphinx_gallery\")"
>>>>>>> e7a4b34dcb912c020b9a4ce325f3fc44cee2a907
   ]
  },
  {
   "cell_type": "markdown",
   "id": "8403945c-cd2d-4b0c-a7cc-e71bbfae2cf5",
   "metadata": {},
   "source": [
    "Plotting is done with the [Plotly](https://plotly.com/python) package. In the above example, the [plotly renderer](https://plotly.com/python/renderers/) is specified (```renderer=sphinx_gallery```). Often, the default renderer is sufficient."
   ]
  },
  {
   "cell_type": "markdown",
   "id": "3c9b0501-f751-44e5-9421-2280feb99a08",
   "metadata": {},
   "source": [
    "The fragments can be stored to XYZ-files, either separately of collected into a single file.\n",
    "The fragments can be stored to separate XYZ-files by calling the ```store_fragments``` method:"
   ]
  },
  {
   "cell_type": "code",
   "execution_count": null,
   "id": "71c94e1a-846f-4089-bdd0-f4f8ba5d1ff8",
   "metadata": {
    "tags": []
   },
   "outputs": [],
   "source": [
    "f.store_fragments(\"dna_strand\")"
   ]
  },
  {
   "cell_type": "markdown",
   "id": "d2f27d5f-77b8-4725-a196-231b42ea5f4c",
   "metadata": {},
   "source": [
    "The files ```dna_strand_fragment_i.xyz``` are then generated for $i=0:n - 1$ where $n$\n",
    "is the number of fragments. Alternatively, all fragments can be stored in a single XYZ-file by a call to ```store_full```:"
   ]
  },
  {
   "cell_type": "code",
   "execution_count": null,
   "id": "5680e4dc-8860-44ba-a76b-2e1505aefd63",
   "metadata": {},
   "outputs": [],
   "source": [
    "f.store_full(\"dna_strand\")"
   ]
  },
  {
   "cell_type": "markdown",
   "id": "7145da26-5eb7-4a86-8443-75fb0dd8c2a0",
   "metadata": {},
   "source": [
    "In this example, all fragments will be stored, one after the other, in the file ```dna_strand_full.xyz```"
   ]
  },
  {
   "cell_type": "code",
   "execution_count": null,
   "id": "2452bb6d-64ec-4a21-9f32-ceda097f605e",
   "metadata": {
    "nbsphinx": "hidden",
    "tags": []
   },
   "outputs": [],
   "source": [
    "import os\n",
    "for i in range(f.n_fragments):\n",
    "    os.remove(f\"dna_strand_fragment_{i}.xyz\")\n",
    "os.remove(f\"dna_strand_full.xyz\")"
   ]
  },
  {
   "cell_type": "markdown",
   "id": "276acefd-fbde-47ad-b58d-f707dbce20b3",
   "metadata": {},
   "source": [
    "There is some functionality within the [MolecularFragmenter](reference.rst#fragmentino.MolecularFragmenter) class to reorder and group fragments. See the section on **Advanced functionality** for such options."
   ]
  },
  {
   "cell_type": "markdown",
   "id": "c830844f-4666-4f72-8b84-d750d2439e40",
   "metadata": {},
   "source": [
    "## Properties of the fragmented system\n",
    "\n",
    "The MolecularFragmenter class has the following properties:\n",
    "\n",
    "- ```f.size``` - the size of the molecular system to be fragmented\n",
    "- ```f.fragment_sizes``` - a list of the sizes of the fragments\n",
    "- ```f.n_fragments``` -  the number of fragments\n",
    "- ```f.n_capped_bonds```  -  the number of capped bonds, i.e., how many bonds there are between different fragments"
   ]
  },
  {
   "cell_type": "markdown",
   "id": "34151c39-6cd9-4e32-9854-a2ec2f4b0852",
   "metadata": {},
   "source": [
    "## Advanced functionality\n",
    "\n",
    "The fragmentino package can add hydrogen atoms at the ends of capped bonds through:"
   ]
  },
  {
   "cell_type": "code",
   "execution_count": null,
   "id": "e2fdb646-5dcb-4fda-9133-a56b3170ffc6",
   "metadata": {},
   "outputs": [],
   "source": [
    "f.add_H_to_capped_bonds()"
   ]
  },
  {
   "cell_type": "markdown",
   "id": "6d9530e3-8af3-4ebd-bd9c-28cfee8b6183",
   "metadata": {},
   "source": [
    "This will result in addition of H atoms along the bond that was capped. \n",
    "\n",
    "The [MolecularFragmenter](reference.rst#fragmentino.MolecularFragmenter) also allows for\n",
    "\n",
    "1. Finding the central fragment\n",
    "2. Swapping the order of two fragments\n",
    "3. Grouping fragments by size\n",
    "\n",
    "In the following example, the central fragment is found and set as the first fragment.\n",
    "Fragments of equal size are then grouped, before the fragments are written to file.\n"
   ]
  },
  {
   "cell_type": "code",
   "execution_count": null,
   "id": "4b081c8e-9ad5-4f89-b09f-e71d2a52522c",
   "metadata": {},
   "outputs": [],
   "source": [
    "i = f.find_central_fragment()\n",
    "f.swap_fragments(0, i)\n",
    "f.group_fragments_by_size()"
   ]
  }
 ],
 "metadata": {
  "kernelspec": {
   "display_name": "Python 3",
   "language": "python",
   "name": "python3"
  },
  "language_info": {
   "codemirror_mode": {
    "name": "ipython",
    "version": 3
   },
   "file_extension": ".py",
   "mimetype": "text/x-python",
   "name": "python",
   "nbconvert_exporter": "python",
   "pygments_lexer": "ipython3",
   "version": "3.7.10"
  }
 },
 "nbformat": 4,
 "nbformat_minor": 5
}
